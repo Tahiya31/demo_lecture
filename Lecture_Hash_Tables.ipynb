{
 "cells": [
  {
   "cell_type": "markdown",
   "id": "8da4bd81",
   "metadata": {
    "editable": true,
    "slideshow": {
     "slide_type": "slide"
    },
    "tags": []
   },
   "source": [
    "# Welcome!\n",
    "\n",
    "### Let's know each other\n",
    "\n",
    "My name is Tahiya Chowdhury. I use she/her pronouns. I will be facilitating this lecture."
   ]
  },
  {
   "cell_type": "markdown",
   "id": "b87461fb",
   "metadata": {
    "slideshow": {
     "slide_type": "slide"
    }
   },
   "source": [
    "**Your turn**\n",
    "\n",
    "Let's go around the room and say\n",
    "\n",
    "* Your name\n",
    "* Preferred pronoun\n",
    "* Quick fun fact about yourself (optional)"
   ]
  },
  {
   "cell_type": "markdown",
   "id": "869ed579",
   "metadata": {
    "slideshow": {
     "slide_type": "slide"
    }
   },
   "source": [
    "## Agenda for today\n",
    "\n",
    "* Lecture topic of the day: Hash Tables \n",
    "* In class Activity\n",
    "* Exercise problems (to be solved as Homework or Out of class activity)"
   ]
  },
  {
   "cell_type": "markdown",
   "id": "d9db3d40",
   "metadata": {
    "slideshow": {
     "slide_type": "subslide"
    }
   },
   "source": [
    "**Note**.\n",
    "\n",
    "All materials used in this lecture is available at this link: https://github.com/Tahiya31/demo_lecture\n",
    "\n",
    "This notebook has several **Try** sections that we will try during class as in-class activity."
   ]
  },
  {
   "cell_type": "markdown",
   "id": "719bc486",
   "metadata": {
    "slideshow": {
     "slide_type": "slide"
    }
   },
   "source": [
    "## Scenario\n",
    "\n",
    "We all use passwords for across to different platforms.\n",
    "\n",
    "Have you ever forgot a password of a website?\n",
    "\n",
    "When you tried to recover it, the site sends you a link to reset it."
   ]
  },
  {
   "cell_type": "markdown",
   "id": "ce004827",
   "metadata": {
    "slideshow": {
     "slide_type": "fragment"
    }
   },
   "source": [
    "### Have you wondered why?"
   ]
  },
  {
   "cell_type": "markdown",
   "id": "fdf330fb",
   "metadata": {
    "slideshow": {
     "slide_type": "fragment"
    }
   },
   "source": [
    "## Answer\n",
    "\n",
    "* The website doesn’t store the entire original password you chose.\n",
    "\n",
    "* Just stores its hash, a transformed version of it.\n",
    "\n",
    "* If the site’s database gets hacked, the hackers won’t be able to know your password but just the hash of your password. \n",
    "\n",
    "* As hashes are one-way function, there is no way to trace back to your actual password."
   ]
  },
  {
   "cell_type": "markdown",
   "id": "0f27c20f",
   "metadata": {
    "slideshow": {
     "slide_type": "slide"
    }
   },
   "source": [
    "## How are passwords stored in a database?\n",
    "\n",
    "If you store the (user_name, password) pairs to a database as they came along, every time you need to retrieve one, you will need to go through each entry, one at a time.\n",
    "\n",
    "One way to avoid this is to store all our user names and passwords in a structured way.\n",
    "\n",
    "So that you can retrieve it without having to go through each of them.\n"
   ]
  },
  {
   "cell_type": "markdown",
   "id": "c818c870",
   "metadata": {
    "slideshow": {
     "slide_type": "slide"
    }
   },
   "source": [
    "## Let's assume\n",
    "\n",
    "We are creating a website where we have multiple users with unique passwords.\n",
    "\n",
    "**Toy collection of stored login names and passwords on our website**\n",
    "\n",
    "| Login Name | Password |\n",
    "|   :-        |   -:     |\n",
    "| gatsby  |  qazwsx  | \n",
    "| panoroma    | qwerty   |\n",
    "| wabanaki    | password1|\n",
    "| saturn    | 1234567 |\n",
    "| diatom    | 987654  |\n"
   ]
  },
  {
   "cell_type": "markdown",
   "id": "76637b79",
   "metadata": {
    "slideshow": {
     "slide_type": "fragment"
    }
   },
   "source": [
    "**If User saturn wants to retrieve their password, how will the system retrieve it?**"
   ]
  },
  {
   "cell_type": "markdown",
   "id": "55ae4eed",
   "metadata": {
    "slideshow": {
     "slide_type": "slide"
    }
   },
   "source": [
    "### What kind of problem is this?"
   ]
  },
  {
   "cell_type": "markdown",
   "id": "7d1fe915",
   "metadata": {
    "slideshow": {
     "slide_type": "fragment"
    }
   },
   "source": [
    "### This is a search problem, where we want to quickly search and retrieve information."
   ]
  },
  {
   "cell_type": "markdown",
   "id": "7ce4be0e",
   "metadata": {
    "slideshow": {
     "slide_type": "subslide"
    }
   },
   "source": [
    "**How do we search for password of a specific user in this table?**\n",
    "\n",
    "**Notice** that this is not sorted. \n",
    "\n",
    "If the elements were ordered, we could apply [binary search resource 1](https://www.khanacademy.org/computing/computer-science/algorithms/binary-search/a/binary-search) [2](https://runestone.academy/ns/books/published/pythonds/SortSearch/TheBinarySearch.html)\n",
    "\n",
    "and search the user in **logarithmic time**."
   ]
  },
  {
   "cell_type": "markdown",
   "id": "de610fc5",
   "metadata": {
    "slideshow": {
     "slide_type": "fragment"
    }
   },
   "source": [
    "**Note** \n",
    "\n",
    "Here logarithmic time represents the running time of binary search given an input $n$. For more on Big-O notations and run time complexity, [check here](https://www.khanacademy.org/computing/computer-science/algorithms/asymptotic-notation/a/big-o-notation)."
   ]
  },
  {
   "cell_type": "markdown",
   "id": "3f086e1d",
   "metadata": {},
   "source": [
    "## How can we make this more efficient (faster)?"
   ]
  },
  {
   "cell_type": "markdown",
   "id": "250462c2",
   "metadata": {
    "slideshow": {
     "slide_type": "slide"
    }
   },
   "source": [
    "## Have more information \n",
    "\n",
    "about where the password might be located in the table\n"
   ]
  },
  {
   "cell_type": "markdown",
   "id": "ca00f6d8",
   "metadata": {
    "slideshow": {
     "slide_type": "fragment"
    }
   },
   "source": [
    "### Option 1\n",
    "You know exactly where to look\n",
    "* Knowing the position of the element in an array of 100 elements allows us to quickly find the element using its index (array position). *($O(1)$ time complexity)*."
   ]
  },
  {
   "cell_type": "markdown",
   "id": "9f4ebbc3",
   "metadata": {
    "slideshow": {
     "slide_type": "fragment"
    }
   },
   "source": [
    "### Option 2\n",
    "You can structure the table in a way so that you don't need to go through each entry.\n",
    "* Sorting an array allows us to find it without having to go through each element one by one. *($O(logn)$ time complexity)*."
   ]
  },
  {
   "cell_type": "markdown",
   "id": "bfe72107",
   "metadata": {
    "slideshow": {
     "slide_type": "slide"
    }
   },
   "source": [
    "But what happens when we don't have location (or position) information? \n",
    "\n",
    "How do we know the position?"
   ]
  },
  {
   "cell_type": "markdown",
   "id": "2affe6e3",
   "metadata": {
    "slideshow": {
     "slide_type": "subslide"
    }
   },
   "source": [
    "## That's where hash table comes!"
   ]
  },
  {
   "cell_type": "markdown",
   "id": "051045c8",
   "metadata": {
    "slideshow": {
     "slide_type": "slide"
    }
   },
   "source": [
    "### Key terms for today\n",
    "\n",
    "* Hash Table\n",
    "* Hash Function: Division Method\n",
    "* Collision and Collision Resolution: Open Addressing, Linear Probing, Quadratic probing\n",
    "* Chaining\n",
    "* Big O, run time complexity"
   ]
  },
  {
   "cell_type": "markdown",
   "id": "def53d1b",
   "metadata": {
    "slideshow": {
     "slide_type": "slide"
    }
   },
   "source": [
    "## Hash Table"
   ]
  },
  {
   "cell_type": "markdown",
   "id": "1c636bff",
   "metadata": {
    "slideshow": {
     "slide_type": "fragment"
    }
   },
   "source": [
    "* Hash Table is a data structure that allows us to quickly search for an item.\n",
    "\n",
    "\n",
    "* Think of a collection of items which are **stored** in such a way to make it easy to **find** them later. \n",
    "\n",
    "\n",
    "\n"
   ]
  },
  {
   "cell_type": "markdown",
   "id": "af764c04",
   "metadata": {
    "slideshow": {
     "slide_type": "subslide"
    }
   },
   "source": [
    "* Each position of the hash table, often called a slot, can hold an item and is named by an integer value starting at 0 \n",
    "\n",
    "    Let's call this name **index**. \n",
    "\n",
    "\n",
    "    For example, we will have a slot indexed 0, a slot indexed 1, a slot indexed 2, and so on. Initially, the hash table contains no item so every slot is empty. \n",
    "\n",
    "![alternative text](images/hash_table.png)\n",
    "\n",
    "This is a hash table of size $m=11$"
   ]
  },
  {
   "cell_type": "markdown",
   "id": "728d84d2",
   "metadata": {
    "slideshow": {
     "slide_type": "slide"
    }
   },
   "source": [
    "When an item needs to be placed in the table, we will need to find a slot for it.\n",
    "\n",
    "The mapping between an item and the slot where that item belongs in the hash table is called the **hash function**. "
   ]
  },
  {
   "cell_type": "markdown",
   "id": "9a9b1e6b",
   "metadata": {
    "slideshow": {
     "slide_type": "slide"
    }
   },
   "source": [
    "### Hash function\n",
    "\n",
    "In a hash table, given some key, we apply a **hash function** to the key to find the index of the slot where the corresponding item would go.\n",
    "\n",
    "If we have $m$ slots, our hash function:\n",
    "\n",
    "* will take any item in our collection \n",
    "* return its index as an integer\n",
    "\n",
    "This index tells us the slot name, and its range is between $0$ and $m-1$. \n"
   ]
  },
  {
   "cell_type": "markdown",
   "id": "cb0b5adc",
   "metadata": {
    "slideshow": {
     "slide_type": "slide"
    }
   },
   "source": [
    "### How can we design a hash function?\n",
    "\n",
    "A hash function that maps each item to a unique slot is a **perfect hash function**.\n",
    "\n",
    "Unfortunately there is no way to design a perfect hash function as \n",
    "* items in the collection is likely to increase over time.\n",
    "* will need to increase size of the hash table to accomodate each new item.\n",
    "* this leads to waste of memory."
   ]
  },
  {
   "cell_type": "markdown",
   "id": "b50f2b1e",
   "metadata": {
    "slideshow": {
     "slide_type": "fragment"
    }
   },
   "source": [
    "Okay, we accept that accomodating one item per slot is not feasible.\n",
    "\n",
    "Then a practical solution will be to allow multiple items per slot if needed (when number of items, $n$ $>$ number of slots, $m$)"
   ]
  },
  {
   "cell_type": "markdown",
   "id": "9f58b470",
   "metadata": {
    "slideshow": {
     "slide_type": "slide"
    }
   },
   "source": [
    "\n",
    "## Goal of hash function design\n",
    "\n",
    "* Distribute the items evenly across different slots.\n",
    "\n",
    "* Easy to compute hash function\n",
    "\n",
    "* Designing good hash function is hard. "
   ]
  },
  {
   "cell_type": "markdown",
   "id": "aa4a5447",
   "metadata": {
    "slideshow": {
     "slide_type": "subslide"
    }
   },
   "source": [
    "## Designing Hash Function \n",
    "\n",
    "### Strategy 1: Division Method (or Remainder Method)\n",
    "\n",
    "Steps:\n",
    "\n",
    "1. We pick a collection of $n$ items.\n",
    "2. Our  hash function $h$, will take one item at a time and divide it by the number of slots, $m$.\n",
    "3. The remainder from the division will be the hash value and will determine the slot number.\n",
    "\n",
    "**Hash Function** $h(item) = item \\% m $ \n",
    "\n",
    "\n",
    "\n"
   ]
  },
  {
   "cell_type": "markdown",
   "id": "607a68ad",
   "metadata": {
    "slideshow": {
     "slide_type": "subslide"
    }
   },
   "source": [
    "### Now You Try!\n",
    "\n",
    "Consider the following collection of 10 items. \n",
    "\n",
    "Our hash table has 11 slots ($m = 11$). \n",
    "\n",
    "Using Remainder method, can we get the hash values for these items?\n",
    "\n",
    "\n",
    "\n",
    "| Item | Hash Value (slot number)|\n",
    "|:-| -: |\n",
    "|26|    |\n",
    "|35|    |  \n",
    "|27|    |\n",
    "|17|    |\n",
    "|42|    |\n",
    "|70|    |\n",
    "|57|    |\n",
    "|45|    |\n",
    "|86|    |      \n",
    "|4 |    |"
   ]
  },
  {
   "cell_type": "markdown",
   "id": "937fcf18",
   "metadata": {
    "slideshow": {
     "slide_type": "subslide"
    }
   },
   "source": [
    "**Once the hash values are calculated**\n",
    "\n",
    "Let's put them in our hash table.\n",
    "\n",
    "| index | item|\n",
    "|:-| -: |\n",
    "| 0|    |\n",
    "| 1 |   |  \n",
    "| 2 |   |\n",
    "| 3 |   |\n",
    "| 4 |   |\n",
    "| 5 |  |\n",
    "| 6|   |\n",
    "| 7|   |\n",
    "| 8  |   |\n",
    "|9 |    |\n",
    "|10 |   |\n"
   ]
  },
  {
   "cell_type": "markdown",
   "id": "86c21eb5",
   "metadata": {
    "slideshow": {
     "slide_type": "fragment"
    }
   },
   "source": [
    "Once we have the hash table filled with data, let's go back to our search problem. \n",
    "\n",
    "**How do we now find an item in this collection (hash table)?**\n"
   ]
  },
  {
   "cell_type": "markdown",
   "id": "ee785bf2",
   "metadata": {
    "slideshow": {
     "slide_type": "subslide"
    }
   },
   "source": [
    "### Answer\n",
    "\n",
    "Apply hash function to the item and we will get the index. \n",
    "\n",
    "**The rest is like finding an element in an array using index with $O(1)$ time complexity.**"
   ]
  },
  {
   "cell_type": "markdown",
   "id": "3603af5d",
   "metadata": {
    "slideshow": {
     "slide_type": "fragment"
    }
   },
   "source": [
    "Let's review [this book chapter](https://runestone.academy/ns/books/published/pythonds/SortSearch/Hashing.html) to learn about a couple more hash functions such as *folding method*, *mid square method*, etc."
   ]
  },
  {
   "cell_type": "markdown",
   "id": "956f918c",
   "metadata": {
    "slideshow": {
     "slide_type": "slide"
    }
   },
   "source": [
    "### But ...\n",
    "\n",
    "What if we have multiple items whose hash value is same and thus are assigned to the same slot in the hash table?\n",
    "\n",
    "When two or more items are assigned to the same slot, it's called ...\n",
    "\n",
    "## Collision"
   ]
  },
  {
   "cell_type": "markdown",
   "id": "7d6abbba",
   "metadata": {
    "slideshow": {
     "slide_type": "slide"
    }
   },
   "source": [
    "### How to deal with collision: Collision Resolution\n",
    "\n",
    "When a second item gets assigned to a slot where an item already exists, we need to find a way to assign the second item in the table."
   ]
  },
  {
   "cell_type": "markdown",
   "id": "2602a9ca",
   "metadata": {
    "slideshow": {
     "slide_type": "subslide"
    }
   },
   "source": [
    "## Collision Resolution Strategy 1: Open Addressing\n",
    "\n",
    "What is the best way to get a spot to sit in a crowded coffee shop? "
   ]
  },
  {
   "cell_type": "markdown",
   "id": "940088ff",
   "metadata": {
    "slideshow": {
     "slide_type": "slide"
    }
   },
   "source": [
    "### Answer\n",
    "\n",
    "You keep looking. When you find an available chair and just sit.\n",
    "\n",
    "**Steps**\n",
    "1. Start at the index we get from the hash function.\n",
    "2. Is there a value already? \n",
    "    Yes: then move to the next index (slots) in a sequential manner.\n",
    "3. Continue until an empty slot is found.\n"
   ]
  },
  {
   "cell_type": "markdown",
   "id": "25bc2da7",
   "metadata": {
    "slideshow": {
     "slide_type": "subslide"
    }
   },
   "source": [
    "### Note\n",
    "\n",
    "This may require going through the entire collection and then coming back to the starting index in a circle.\n",
    "\n",
    "Open addressing tries to accommodate items by finding next open slot that is available.\n",
    "\n",
    "Since we are checking one slot at a time, it is called **linear probing**.\n"
   ]
  },
  {
   "cell_type": "markdown",
   "id": "6ac23a12",
   "metadata": {
    "slideshow": {
     "slide_type": "subslide"
    }
   },
   "source": [
    "### Now you try!\n",
    "\n",
    "The hash table we constructed earlier has several slots where mulitple items are assigned simultaneously. \n",
    "\n",
    "Let's use linear probing to find new slots for these items. Use the table below.\n",
    "\n",
    "| index | item (Collision allowed) | Collision Resolution with Linear Probing |\n",
    "|:-| -: | :-|\n",
    "|0|   |    |\n",
    "|1|   |    |\n",
    "|2|   |    |\n",
    "|3|   |    |\n",
    "|4|   |    |\n",
    "|5|   |    |\n",
    "|6|   |    |\n",
    "|7|   |    |\n",
    "|8|   |    |     \n",
    "|9 |   |    |\n",
    "|10  |   |   |"
   ]
  },
  {
   "cell_type": "markdown",
   "id": "d0f7c860",
   "metadata": {
    "slideshow": {
     "slide_type": "slide"
    }
   },
   "source": [
    "### How do we search for items in such table?\n",
    "\n",
    "Just like steps we used to build the table, we will use the same for search in the table.\n",
    "\n",
    "Steps:\n",
    "\n",
    "1. Start at the index we get from the hash function.\n",
    "2. Is the value there? Yes: that is great.\n",
    "3. Is the value there? No: then continue to the next slot until the value is found.\n"
   ]
  },
  {
   "cell_type": "markdown",
   "id": "8afca3df",
   "metadata": {
    "slideshow": {
     "slide_type": "slide"
    }
   },
   "source": [
    "### Disadvantage of Linear Probing\n",
    "\n",
    "####  Clustering \n",
    "\n",
    "We can probably see what will happen if a collision occurs at the same slot for multiple items, \n",
    "\n",
    "all the slots near that specific slot will be filled eventually.\n",
    "\n",
    "This will result in **clustering** where several slots after/near the occupied slot will start getting occupied in a row.\n"
   ]
  },
  {
   "cell_type": "markdown",
   "id": "4ebbe50d",
   "metadata": {
    "slideshow": {
     "slide_type": "subslide"
    }
   },
   "source": [
    "One strategy to minimize clustering is **Quadratic Probing**\n",
    "\n",
    "Instead of inserting items to the next available slot in a **linear** manner $h(item) + i$,\n",
    "\n",
    "insert items by adding square values to the computed hash value $ h(item) + i^2$."
   ]
  },
  {
   "cell_type": "markdown",
   "id": "0056236a",
   "metadata": {
    "slideshow": {
     "slide_type": "subslide"
    }
   },
   "source": [
    "### Chaining: Bonus method for resolving collision\n",
    "\n",
    "If many items gets assigned to the same index location in hash table, then collision occurs. \n",
    "\n",
    "**Chaining** method will form a chain of all the items for that location and allow them to exist despite the collision.\n",
    "\n",
    "Collision is resolved by creating a **linked list** of items that map to the same slot."
   ]
  },
  {
   "cell_type": "markdown",
   "id": "a33823c9",
   "metadata": {
    "slideshow": {
     "slide_type": "subslide"
    }
   },
   "source": [
    "**Disadvantage**. \n",
    "\n",
    "* If there are many items that have been assigned to the same location, finding a specific item in that table becomes harder.\n",
    "\n",
    "* We will first get to the location, but instead of an item, we will get a collection or a list. \n",
    "\n",
    "* For that collection we have to use separate search method to see whether that item is present in that collection ($O(n)$ complexity if the list has $n$ items)."
   ]
  },
  {
   "cell_type": "markdown",
   "id": "766b756a",
   "metadata": {
    "slideshow": {
     "slide_type": "slide"
    }
   },
   "source": [
    "**Note** \n",
    "\n",
    "For a hash table we can calculate a metric called load factor, defined $\\lambda = number of items/tablesize$. \n",
    "\n",
    "This convey how much chance we have for getting a collision.\n",
    "\n",
    "* If $\\lambda$ is small, there is lower chance of collision.\n",
    "* If $\\lambda$ is large, the table is getting filled up, which means higher chance for collision.\n",
    "* It is better to keep the load factor within $0.7$.\n",
    "\n"
   ]
  },
  {
   "cell_type": "markdown",
   "id": "cbddbe2e",
   "metadata": {
    "slideshow": {
     "slide_type": "fragment"
    }
   },
   "source": [
    "**Dictionaries in Python are hash tables**\n",
    "\n",
    "* Stores key-value pairs\n",
    "* allow retrieving values based on key.\n",
    "* see the resources for examples."
   ]
  },
  {
   "cell_type": "markdown",
   "id": "824afd16",
   "metadata": {
    "slideshow": {
     "slide_type": "slide"
    }
   },
   "source": [
    "## Review \n",
    "\n",
    "### What did we learn today?"
   ]
  },
  {
   "cell_type": "markdown",
   "id": "e1e9d151",
   "metadata": {
    "slideshow": {
     "slide_type": "slide"
    }
   },
   "source": [
    "### Can we think of more applications of hash table?\n",
    "\n",
    "* For driver's license record's. Get information about the driver (ie. name, address, age) given the licence number.\n",
    "\n",
    "* For internet [search engines](https://blog.eepy.net/2020/06/15/the-simple-computer-science-behind-search-engines/). \n",
    "\n",
    "* For electronic library catalogs. Hash Table implementations allow for a fast retrieval among the millions of materials stored in the library.\n",
    "\n",
    "* For implementing password database in systems with multiple users. "
   ]
  },
  {
   "cell_type": "markdown",
   "id": "977f5b04",
   "metadata": {
    "slideshow": {
     "slide_type": "slide"
    }
   },
   "source": [
    "## Exercise time!\n",
    "\n",
    "### Problem 1\n",
    "\n",
    "Suppose you are given the following set of keys to insert into a hash table that has 11 slots ($m$ = 11): \n",
    "\n",
    "113 , 117 , 97 , 100 , 114 , 108 , 116 , 105 , 99.\n",
    "\n",
    "Which of the following best demonstrates the contents of the hash table after all the keys have been inserted using **open addressing with linear probing**?\n",
    "\n",
    "**A.** 100, __, __, 113, 114, 105, 116, 117, 97, 108, 99\n",
    "\n",
    "**B.** 99, 100, __, 113, 114, __, 116, 117, 105, 97, 108\n",
    "\n",
    "**C.** 100, 113, 117, 97, 14, 108, 116, 105, 99, __, __\n",
    "\n",
    "**D.** 117, 114, 108, 116, 105, 99, __, __, 97, 100, 113\n"
   ]
  },
  {
   "cell_type": "markdown",
   "id": "cfa13719",
   "metadata": {
    "slideshow": {
     "slide_type": "fragment"
    }
   },
   "source": [
    "### Let's try!\n",
    "\n",
    "\n",
    "\n",
    "\n",
    "\n",
    "\n"
   ]
  },
  {
   "cell_type": "markdown",
   "id": "a313d502",
   "metadata": {
    "slideshow": {
     "slide_type": "slide"
    }
   },
   "source": [
    "\n",
    "### Problem 2\n",
    "\n",
    "In a hash table of size 13 (number of slots, $m$ = 13) which index positions would the following item pairs map to? \n",
    "\n",
    "**A.** 1, 10\n",
    "\n",
    "**B.** 13, 0\n",
    "\n",
    "**C.** 1, 0\n",
    "\n",
    "**D.** 2, 3"
   ]
  },
  {
   "cell_type": "markdown",
   "id": "02867075",
   "metadata": {
    "slideshow": {
     "slide_type": "fragment"
    }
   },
   "source": [
    "### Let's try!"
   ]
  },
  {
   "cell_type": "markdown",
   "id": "3c1ad02d",
   "metadata": {
    "slideshow": {
     "slide_type": "slide"
    }
   },
   "source": [
    "### Problem 3\n",
    "\n",
    "Insert the items 17, 3, 9, 39, 5, 6, 28, and 22 into a hash table of size 11 using hash function $h(x) = x$ $mod$ 11. Use Chaining method.\n",
    "\n",
    "\n",
    "\n",
    "\n",
    "\n",
    "\n",
    "\n",
    "\n"
   ]
  },
  {
   "cell_type": "markdown",
   "id": "78ea22f5",
   "metadata": {
    "slideshow": {
     "slide_type": "fragment"
    }
   },
   "source": [
    "### Let's try!"
   ]
  },
  {
   "cell_type": "markdown",
   "id": "92e9aa0c",
   "metadata": {
    "slideshow": {
     "slide_type": "slide"
    }
   },
   "source": [
    "### Resources\n",
    "\n",
    "1. [Hashing, Data Structures with Python](https://runestone.academy/ns/books/published/pythonds/SortSearch/Hashing.html#tbl-hashvalues1)\n",
    "2. [Binary Search, Data Structures with Python](https://runestone.academy/ns/books/published/pythonds/SortSearch/TheBinarySearch.html)"
   ]
  },
  {
   "cell_type": "markdown",
   "id": "6a119ad7",
   "metadata": {
    "slideshow": {
     "slide_type": "fragment"
    }
   },
   "source": [
    "## Checklist\n",
    "\n",
    "* Homework: Submit the exercises from this lecture to Moodle.\n",
    " "
   ]
  },
  {
   "cell_type": "markdown",
   "id": "a6976d8c",
   "metadata": {
    "slideshow": {
     "slide_type": "fragment"
    }
   },
   "source": [
    "## See you next week!"
   ]
  }
 ],
 "metadata": {
  "kernelspec": {
   "display_name": "Python 3 (ipykernel)",
   "language": "python",
   "name": "python3"
  },
  "language_info": {
   "codemirror_mode": {
    "name": "ipython",
    "version": 3
   },
   "file_extension": ".py",
   "mimetype": "text/x-python",
   "name": "python",
   "nbconvert_exporter": "python",
   "pygments_lexer": "ipython3",
   "version": "3.10.8"
  }
 },
 "nbformat": 4,
 "nbformat_minor": 5
}
