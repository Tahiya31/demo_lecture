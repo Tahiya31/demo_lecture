{
 "cells": [
  {
   "cell_type": "markdown",
   "id": "8da4bd81",
   "metadata": {},
   "source": [
    "# Welcome!"
   ]
  },
  {
   "cell_type": "markdown",
   "id": "bf953fa2",
   "metadata": {},
   "source": [
    "### Let's know each other\n",
    "\n",
    "My name is Tahiya Chowdhury. I use she/her pronouns. I will be facilitaing this lecture."
   ]
  },
  {
   "cell_type": "markdown",
   "id": "b87461fb",
   "metadata": {},
   "source": [
    "**Your turn**\n",
    "\n",
    "Let's go around the room and say\n",
    "\n",
    "* Your name\n",
    "* Preferred pronoun\n",
    "* Quick fun fact about yourself (optional)"
   ]
  },
  {
   "cell_type": "markdown",
   "id": "869ed579",
   "metadata": {},
   "source": [
    "## Agenda for today\n",
    "\n",
    "* Lecture on the topic of the day: Hash Tables \n",
    "* In class Activity\n",
    "* Exercise problems (to be solved as Homework or Out of class activity)"
   ]
  },
  {
   "cell_type": "markdown",
   "id": "d9db3d40",
   "metadata": {},
   "source": [
    "## Scenario\n",
    "\n",
    "Many of us reuse passwords across different platforms, because we tend to to forget our login user name and passwords.\n",
    "\n",
    "One way to avoid this is to store all our user names and passwords in a structured way.\n",
    "\n",
    "Let's consider this toy collection of stored login names and passwords that we have multiple users:\n",
    "\n",
    "| Login Name | Password |\n",
    "|   :-        |   -:     |\n",
    "| user1  |  qazwsx  | \n",
    "| user2    | qwerty   |\n",
    "| user3    | password1|\n",
    "| user4    | 1234567 |\n",
    "| user5     | 987654  |"
   ]
  },
  {
   "cell_type": "markdown",
   "id": "76637b79",
   "metadata": {
    "slideshow": {
     "slide_type": "slide"
    }
   },
   "source": [
    "**If User1 want to retrieve their password, how will the system retrieve it?**"
   ]
  },
  {
   "cell_type": "markdown",
   "id": "55ae4eed",
   "metadata": {},
   "source": [
    "## What kind of problem is this?"
   ]
  },
  {
   "cell_type": "code",
   "execution_count": 14,
   "id": "652a5cfb",
   "metadata": {
    "tags": [
     "hide_code"
    ]
   },
   "outputs": [
    {
     "name": "stdout",
     "output_type": "stream",
     "text": [
      "Answer: Search\n"
     ]
    }
   ],
   "source": [
    "print(\"Answer: Search\") "
   ]
  },
  {
   "cell_type": "markdown",
   "id": "9bf42f37",
   "metadata": {},
   "source": []
  },
  {
   "cell_type": "markdown",
   "id": "7d1fe915",
   "metadata": {},
   "source": [
    "### This is a search problem, where we want to quickly search and retrieve information."
   ]
  },
  {
   "cell_type": "code",
   "execution_count": null,
   "id": "afff85c4",
   "metadata": {},
   "outputs": [],
   "source": []
  },
  {
   "cell_type": "code",
   "execution_count": null,
   "id": "7a16847f",
   "metadata": {},
   "outputs": [],
   "source": []
  },
  {
   "cell_type": "code",
   "execution_count": null,
   "id": "0cbe5280",
   "metadata": {},
   "outputs": [],
   "source": []
  }
 ],
 "metadata": {
  "kernelspec": {
   "display_name": "Python [conda env:janplan]",
   "language": "python",
   "name": "conda-env-janplan-py"
  },
  "language_info": {
   "codemirror_mode": {
    "name": "ipython",
    "version": 3
   },
   "file_extension": ".py",
   "mimetype": "text/x-python",
   "name": "python",
   "nbconvert_exporter": "python",
   "pygments_lexer": "ipython3",
   "version": "3.10.8"
  }
 },
 "nbformat": 4,
 "nbformat_minor": 5
}
