{
 "cells": [
  {
   "cell_type": "markdown",
   "id": "8da4bd81",
   "metadata": {},
   "source": [
    "# Welcome!"
   ]
  },
  {
   "cell_type": "markdown",
   "id": "bf953fa2",
   "metadata": {},
   "source": [
    "### Let's know each other\n",
    "\n",
    "My name is Tahiya Chowdhury. I use she/her pronouns. I will be facilitaing this lecture."
   ]
  },
  {
   "cell_type": "markdown",
   "id": "b87461fb",
   "metadata": {},
   "source": [
    "**Your turn**\n",
    "\n",
    "Let's go around the room and say\n",
    "\n",
    "* Your name\n",
    "* Preferred pronoun\n",
    "* Quick fun fact about yourself (optional)"
   ]
  },
  {
   "cell_type": "markdown",
   "id": "869ed579",
   "metadata": {},
   "source": [
    "## Agenda for today\n",
    "\n",
    "* Lecture on the topic of the day: Hash Tables \n",
    "* In class Activity\n",
    "* Exercise problems (to be solved as Homework or Out of class activity)"
   ]
  },
  {
   "cell_type": "markdown",
   "id": "d9db3d40",
   "metadata": {},
   "source": [
    "**Note** This notebook has several **Try** sections that we will try during class as in-class activity."
   ]
  },
  {
   "cell_type": "markdown",
   "id": "719bc486",
   "metadata": {},
   "source": [
    "## Scenario\n",
    "\n",
    "We all use passwords for across to different platforms.\n",
    "\n",
    "Have you ever forgot a password of a website and when you tried to recover it, the site sends you a link to reset it?\n",
    "\n",
    "### Have you wondered why?\n",
    "\n",
    "The answer is that the website doesn’t store the entire original password you choose, but just its hash, a transformed version of it.\n",
    "\n",
    "If the the site’s database gets hacked, the hackers won’t be able to know your password but just the hash of your password. As they are one-way function, there is no way to trace back to your password.\n",
    "\n",
    "## How are password stored in a database?\n",
    "\n",
    "If you store the (user_name, passwords) pairs to a database as they came along, every time you will need to go through each entry by going through.\n",
    "\n",
    "One way to avoid this is to store all our user names and passwords in a structured way.\n",
    "\n",
    "Let's consider this toy collection of stored login names and passwords that we have multiple users:\n",
    "\n",
    "| Login Name | Password |\n",
    "|   :-        |   -:     |\n",
    "| gatsby  |  qazwsx  | \n",
    "| panoroma    | qwerty   |\n",
    "| wabanaki    | password1|\n",
    "| saturn    | 1234567 |\n",
    "| diatom    | 987654  |"
   ]
  },
  {
   "cell_type": "markdown",
   "id": "76637b79",
   "metadata": {
    "slideshow": {
     "slide_type": "slide"
    }
   },
   "source": [
    "**If User saturn wants to retrieve their password, how will the system retrieve it?**"
   ]
  },
  {
   "cell_type": "markdown",
   "id": "55ae4eed",
   "metadata": {},
   "source": [
    "## Question: What kind of problem is this?"
   ]
  },
  {
   "cell_type": "markdown",
   "id": "7d1fe915",
   "metadata": {},
   "source": [
    "### This is a search problem, where we want to quickly search and retrieve information."
   ]
  },
  {
   "cell_type": "markdown",
   "id": "7ce4be0e",
   "metadata": {},
   "source": [
    "**How do we search for password of a specific user in this table?**\n",
    "\n",
    "Notice that this is not sorted. If the elements were ordered, we could apply [binary search 1](https://www.khanacademy.org/computing/computer-science/algorithms/binary-search/a/binary-search) [binary search 2](https://runestone.academy/ns/books/published/pythonds/SortSearch/TheBinarySearch.html) and search the user in **logarithmic time**."
   ]
  },
  {
   "cell_type": "markdown",
   "id": "de610fc5",
   "metadata": {},
   "source": [
    "**Note** Here logarithmic time represents the running time of binary search a given input $n$. For more on Big-O notations and run time complexity, [check here](https://notlaura.com/day-5-algorithms-logarithms-big-o-binary-search/)."
   ]
  },
  {
   "cell_type": "markdown",
   "id": "3f086e1d",
   "metadata": {},
   "source": [
    "How can we make this more efficient?\n",
    "One way will be to have *more information about where the items mights be located in the table* that can search in $O(1)$ time (best case). $Constant$ time complexity.\n",
    "\n",
    "* Knowing the position of the element in an array of 100 elements allows us to quickly find the element using its index (array position). *($O(1)$ time complexity)*.\n",
    "\n",
    "* Sorting an array allows us to find it without having to go through each element one by one. *($O(logn)$ time complexity)*."
   ]
  },
  {
   "cell_type": "markdown",
   "id": "bfe72107",
   "metadata": {},
   "source": [
    "What happens when we don't have position information? How do we know the position?"
   ]
  },
  {
   "cell_type": "markdown",
   "id": "051045c8",
   "metadata": {},
   "source": [
    "### Key terms for today\n",
    "\n",
    "* Hash Table\n",
    "* Hash Function: Division Method\n",
    "* Collision and Collision REsolution: Open Addressing, Linera Probing, quadratic probing\n",
    "* Chaining\n",
    "* Big O, run time complexity"
   ]
  },
  {
   "cell_type": "markdown",
   "id": "def53d1b",
   "metadata": {},
   "source": [
    "## Hash Table"
   ]
  },
  {
   "cell_type": "markdown",
   "id": "1c636bff",
   "metadata": {},
   "source": [
    "Hash Table is a data structure that allows us to quickly search for an item.\n",
    "\n",
    "Think of a collection of items which are stored in such a way as to make it easy to find them later. \n",
    "\n",
    "\n",
    "\n",
    "Each position of the hash table, often called a slot, can hold an item and is named by an integer value starting at 0 (let's call this name **index**). \n",
    "\n",
    "For example, we will have a slot indexed 0, a slot indexed 1, a slot indexed 2, and so on. Initially, the hash table contains no items so every slot is empty. "
   ]
  },
  {
   "cell_type": "markdown",
   "id": "728d84d2",
   "metadata": {},
   "source": [
    "The mapping between an item and the slot where that item belongs in the hash table is called the **hash function**. "
   ]
  },
  {
   "cell_type": "markdown",
   "id": "9a9b1e6b",
   "metadata": {},
   "source": [
    "### Hash function\n",
    "\n",
    "In a hash table, given some key, we apply a **hash function** to it to find the index of the slot where the corresponding item would go.\n",
    "\n",
    "\n"
   ]
  },
  {
   "cell_type": "markdown",
   "id": "b239d36b",
   "metadata": {},
   "source": [
    "* If we have $m$ slots, our hash function will take any item in our collection and return its index as an integer. This index tells us the slot name, and its range is between $0$ and $m-1$.\n"
   ]
  },
  {
   "cell_type": "markdown",
   "id": "cb0b5adc",
   "metadata": {},
   "source": [
    "### How can we design a hash function?\n",
    "\n",
    "A hash function that maps each item to a unique slot is a **perfect hash function**.\n",
    "\n",
    "Unfortunately there is no way to design a perfect hash function as \n",
    "* items in the collection change is likely to change over time.\n",
    "* will need to increase size of the hash table to accomodate each new item.\n",
    "* waste of memory"
   ]
  },
  {
   "cell_type": "markdown",
   "id": "b50f2b1e",
   "metadata": {},
   "source": [
    "If we accept that accomodating one item per slot is not feasible, a practical solution will allow multiple items per slot if needed.\n",
    "\n",
    "The goal of hash function is:\n",
    "\n",
    "* distribute the items evenly across different slots.\n",
    "\n",
    "* easy to compute hash function\n",
    "\n",
    "There are also the reason why designing good function hard."
   ]
  },
  {
   "cell_type": "markdown",
   "id": "aa4a5447",
   "metadata": {},
   "source": [
    "## Hash Function Strategy 1: Division Method (or Remainder Method)\n",
    "\n",
    "Steps:\n",
    "\n",
    "1. We pick a collection of items.\n",
    "2. Our division hash function, will take one item at a time and divide it by the number of slots.\n",
    "3. The remainder from the division will be th ehash value and will determine the slot number.\n",
    "\n",
    "$h(item) = item \\% 11 $\n",
    "\n"
   ]
  },
  {
   "cell_type": "markdown",
   "id": "607a68ad",
   "metadata": {},
   "source": [
    "### Now You try\n",
    "\n",
    "Consider the following table. Our hash table has 5 slots. Can you get the hash values for these items?\n",
    "\n",
    "| Item | Hash Value (slot number)|\n",
    "|:-| -: |\n",
    "|26|   |\n",
    "|27|   |  \n",
    "|31|.   |\n",
    "|17|   |\n",
    "|42|    |\n",
    "|70|      |\n",
    "|35|      |\n",
    "|45|      |\n",
    "|86|      |      \n",
    "|4 |       |"
   ]
  },
  {
   "cell_type": "markdown",
   "id": "937fcf18",
   "metadata": {},
   "source": [
    "**Once the hash values are calculated**\n",
    "\n",
    "Let's put them in our hash table.\n",
    "\n",
    "| index | item|\n",
    "|:-| -: |\n",
    "| 0 |    |\n",
    "|  |   |  \n",
    "|  |   |\n",
    "|  |   |\n",
    "|  |   |\n"
   ]
  },
  {
   "cell_type": "markdown",
   "id": "86c21eb5",
   "metadata": {},
   "source": [
    "Once we have the hash table filled with data, let's go back to our search problem. **How do we now find an item in this collection (hash table)?**\n",
    "\n",
    "Answer: \n",
    "\n",
    "Apply hash function to the item and we will get the index. \n",
    "\n",
    "**The rest is like finding an element in an array using index) $O(1)$ time proxity.**"
   ]
  },
  {
   "cell_type": "markdown",
   "id": "3603af5d",
   "metadata": {},
   "source": [
    "Let's review [chapter 6.5.1](https://runestone.academy/ns/books/published/pythonds/SortSearch/Hashing.html) to learn about a couple more hash functions such as *folding method*, *mid square method*, etc."
   ]
  },
  {
   "cell_type": "markdown",
   "id": "956f918c",
   "metadata": {},
   "source": [
    "### But ...\n",
    "\n",
    "What is we have multiple items whose hash value is same and thus are assigned to the same slot in the hash table.\n",
    "\n",
    "When two or more items are assigned to the same slot, it's called ..\n",
    "\n",
    "## Collision"
   ]
  },
  {
   "cell_type": "markdown",
   "id": "7d6abbba",
   "metadata": {},
   "source": [
    "### How to deal with collision: Collision Resolution\n",
    "\n",
    "When a second item gets assigned to a slot where an item already exists, we need to find a way to assign the second item in the table."
   ]
  },
  {
   "cell_type": "markdown",
   "id": "2602a9ca",
   "metadata": {},
   "source": [
    "## Collision Resolution Strategy 1: Open Addressing\n",
    "\n",
    "What is the best way to get a spot to sit in a crowded coffee shop? \n",
    "\n",
    "Answer: You find an available chair and just sit.\n",
    "\n",
    "\n",
    "Steps:\n",
    "1. Start at the index we get from the hash function.\n",
    "2. Is there a value already? Yes: then move to the next index (slots) in a sequential manner.\n",
    "3. Continue until am empty slot is found.\n"
   ]
  },
  {
   "cell_type": "markdown",
   "id": "25bc2da7",
   "metadata": {},
   "source": [
    "**Note** This may require going through the entire collection and come back to the strating index in a circle.\n",
    "\n",
    "Open addressing tries to accommodate items by finding next open slot that is availabe.\n",
    "\n",
    "Since we are checking one slot at a time, it is called linear probling.\n"
   ]
  },
  {
   "cell_type": "markdown",
   "id": "6ac23a12",
   "metadata": {},
   "source": [
    "### Now you try!\n",
    "\n",
    "This hash table has several slots where multplie items assigned.Let's use linear probing to find new slots for these items . Use the table below.\n",
    "\n",
    "| Item | Hash Value (slot number)| Collision Resolution with Linear Probing\n",
    "|:-| -: | :-|\n",
    "|26|   |\n",
    "|27|   |  \n",
    "|31|.   |\n",
    "|17|   |\n",
    "|42|    |\n",
    "|70|      |\n",
    "|35|      |\n",
    "|45|      |\n",
    "|86|      |      \n",
    "|4 |       |"
   ]
  },
  {
   "cell_type": "markdown",
   "id": "d0f7c860",
   "metadata": {},
   "source": [
    "### How do we search for items in such tables?\n",
    "\n",
    "Just like steps we used to build the table, we will use the same for search in the table.\n",
    "\n",
    "Steps:\n",
    "\n",
    "1. Start at the index we get from the hash function.\n",
    "2. Is the value there? Yes, that is great.\n",
    "3. Is the value there? No: then Continue until am empty slot is found.\n"
   ]
  },
  {
   "cell_type": "markdown",
   "id": "8afca3df",
   "metadata": {},
   "source": [
    "### Disadvantage of Linear Probing\n",
    "\n",
    "####  Clustering \n",
    "\n",
    "We can probably see what will happen if a collision at the same value for multiple items. All the slots near that specific slot will be filled.\n",
    "\n",
    "**This will result in clustering where several slots after/near the occupied slot will start getting occupied in a row.**\n",
    "\n",
    "#### Strategy to deal with clustering\n",
    "\n",
    "1. Instead of accommodating items sequentially to emppty slots, $n$ slots can be skipped so that items that have caused collision will be evenly distributed and reduce clusering effect.\n",
    "\n",
    "2. Instead of using constant skip values, we can skip after the incrementing the hash value by adding perfect squares\n",
    "if first hash value was $h$, new hash values will be h+1, h +4. This techniques is called **quadratic probing**.\n"
   ]
  },
  {
   "cell_type": "markdown",
   "id": "0056236a",
   "metadata": {},
   "source": [
    "### Chaining: Bonus method for resolving collision\n",
    "\n",
    "If many items gets assigned to the same index location in hash table, then collision occurs. **Chaining** will form a chain of all the items for that location and allow them to exists despite the collision.\n",
    "\n"
   ]
  },
  {
   "cell_type": "markdown",
   "id": "a33823c9",
   "metadata": {},
   "source": [
    "**Disadvantage**. If there are many items that have been to assigned to the same location, finding a specific item in that table becomes harder.\n",
    "\n",
    "We will first get to the location, but instead of an item we will get a collection. For that collection we have to use separate search method to see whether that item is present in that collection"
   ]
  },
  {
   "cell_type": "markdown",
   "id": "766b756a",
   "metadata": {},
   "source": [
    "**Note** \n",
    "\n",
    "For a hash table we can calculate a metric called load factor, defined $\\lambda = number of items/tablesize$. This convey how much chance we have for getting a collision.\n",
    "\n",
    "* If $\\lambda$ is small, there is lower chance of collision.\n",
    "* If $\\lambda$ is large, the table is getting filled up, which means higher chnace for collision..\n",
    "\n"
   ]
  },
  {
   "cell_type": "markdown",
   "id": "e1e9d151",
   "metadata": {},
   "source": [
    "### Can we think of more applications of hash table?\n",
    "\n",
    "* For driver's license record's. Get information about the driver (ie. name, address, age) given the licence number.\n",
    "\n",
    "* For internet search engines. \n",
    "\n",
    "* For electronic library catalogs. Hash Table implementations allow for a fast find among the millions of materials stored in the library.\n",
    "\n",
    "* For implementing passwords for systems with multiple users. Hash Tables allow for a fast retrieval of the password which corresponds to a given username."
   ]
  },
  {
   "cell_type": "markdown",
   "id": "977f5b04",
   "metadata": {},
   "source": [
    "## Exercise time!\n",
    "\n",
    "### Problem 1\n",
    "\n",
    "In a hash table of size 13 which index positions would the following two keys map to? \n",
    "\n",
    "**A.** 1, 10\n",
    "\n",
    "**B.** 13, 0\n",
    "\n",
    "**C.** 1, 0\n",
    "\n",
    "**D.** 2, 3\n",
    "\n",
    "\n",
    "### Problem 2\n",
    "\n",
    "Suppose you are given the following set of keys to insert into a hash table that holds exactly 11 values: 113 , 117 , 97 , 100 , 114 , 108 , 116 , 105 , 99.\n",
    "\n",
    " Which of the following best demonstrates the contents of the hash table after all the keys have been inserted using open addressing with linear probing?\n",
    "\n",
    "**A.** 100, __, __, 113, 114, 105, 116, 117, 97, 108, 99\n",
    "\n",
    "**B.** 99, 100, __, 113, 114, __, 116, 117, 105, 97, 108\n",
    "\n",
    "**C.** 100, 113, 117, 97, 14, 108, 116, 105, 99, __, __\n",
    "\n",
    "**D.** 117, 114, 108, 116, 105, 99, __, __, 97, 100, 113\n",
    "\n",
    "\n"
   ]
  },
  {
   "cell_type": "markdown",
   "id": "3c1ad02d",
   "metadata": {},
   "source": [
    "### Problem 3\n",
    "\n",
    "Insert the keys 17, 3, 9, 39, 5, 6, 28, and 22 into a hash table of size 11 given using hash function h(x) = x mod 11. Use Chaining method.\n"
   ]
  },
  {
   "cell_type": "markdown",
   "id": "92e9aa0c",
   "metadata": {},
   "source": [
    "### Resources\n",
    "\n",
    "1. [Hashing, Data Structures with Python](https://runestone.academy/ns/books/published/pythonds/SortSearch/Hashing.html#tbl-hashvalues1)\n",
    "2. [Binary Search, Data Structures with Python](https://runestone.academy/ns/books/published/pythonds/SortSearch/TheBinarySearch.html)"
   ]
  }
 ],
 "metadata": {
  "kernelspec": {
   "display_name": "Python 3",
   "language": "python",
   "name": "python3"
  },
  "language_info": {
   "codemirror_mode": {
    "name": "ipython",
    "version": 3
   },
   "file_extension": ".py",
   "mimetype": "text/x-python",
   "name": "python",
   "nbconvert_exporter": "python",
   "pygments_lexer": "ipython3",
   "version": "3.10.8"
  }
 },
 "nbformat": 4,
 "nbformat_minor": 5
}
